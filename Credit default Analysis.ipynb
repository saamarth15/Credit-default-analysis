{
 "cells": [
  {
   "cell_type": "code",
   "execution_count": 1,
   "id": "3224538c",
   "metadata": {
    "_cell_guid": "b1076dfc-b9ad-4769-8c92-a6c4dae69d19",
    "_uuid": "8f2839f25d086af736a60e9eeb907d3b93b6e0e5",
    "execution": {
     "iopub.execute_input": "2022-02-13T14:39:16.152370Z",
     "iopub.status.busy": "2022-02-13T14:39:16.150629Z",
     "iopub.status.idle": "2022-02-13T14:39:16.168760Z",
     "shell.execute_reply": "2022-02-13T14:39:16.169230Z",
     "shell.execute_reply.started": "2022-02-11T22:01:49.149467Z"
    },
    "papermill": {
     "duration": 0.04171,
     "end_time": "2022-02-13T14:39:16.169524",
     "exception": false,
     "start_time": "2022-02-13T14:39:16.127814",
     "status": "completed"
    },
    "tags": []
   },
   "outputs": [
    {
     "name": "stdout",
     "output_type": "stream",
     "text": [
      "/kaggle/input/credit-data/credit_data.csv\n"
     ]
    }
   ],
   "source": [
    "# This Python 3 environment comes with many helpful analytics libraries installed\n",
    "# It is defined by the kaggle/python Docker image: https://github.com/kaggle/docker-python\n",
    "# For example, here's several helpful packages to load\n",
    "\n",
    "import numpy as np # linear algebra\n",
    "import pandas as pd # data processing, CSV file I/O (e.g. pd.read_csv)\n",
    "\n",
    "# Input data files are available in the read-only \"../input/\" directory\n",
    "# For example, running this (by clicking run or pressing Shift+Enter) will list all files under the input directory\n",
    "\n",
    "import os\n",
    "for dirname, _, filenames in os.walk('/kaggle/input'):\n",
    "    for filename in filenames:\n",
    "        print(os.path.join(dirname, filename))\n",
    "\n",
    "# You can write up to 20GB to the current directory (/kaggle/working/) that gets preserved as output when you create a version using \"Save & Run All\" \n",
    "# You can also write temporary files to /kaggle/temp/, but they won't be saved outside of the current session"
   ]
  },
  {
   "cell_type": "code",
   "execution_count": 2,
   "id": "24f1f65e",
   "metadata": {
    "execution": {
     "iopub.execute_input": "2022-02-13T14:39:16.207043Z",
     "iopub.status.busy": "2022-02-13T14:39:16.206454Z",
     "iopub.status.idle": "2022-02-13T14:39:16.248750Z",
     "shell.execute_reply": "2022-02-13T14:39:16.249349Z",
     "shell.execute_reply.started": "2022-02-11T22:01:49.166440Z"
    },
    "papermill": {
     "duration": 0.062588,
     "end_time": "2022-02-13T14:39:16.249524",
     "exception": false,
     "start_time": "2022-02-13T14:39:16.186936",
     "status": "completed"
    },
    "tags": []
   },
   "outputs": [
    {
     "data": {
      "text/html": [
       "<div>\n",
       "<style scoped>\n",
       "    .dataframe tbody tr th:only-of-type {\n",
       "        vertical-align: middle;\n",
       "    }\n",
       "\n",
       "    .dataframe tbody tr th {\n",
       "        vertical-align: top;\n",
       "    }\n",
       "\n",
       "    .dataframe thead th {\n",
       "        text-align: right;\n",
       "    }\n",
       "</style>\n",
       "<table border=\"1\" class=\"dataframe\">\n",
       "  <thead>\n",
       "    <tr style=\"text-align: right;\">\n",
       "      <th></th>\n",
       "      <th>clientid</th>\n",
       "      <th>income</th>\n",
       "      <th>age</th>\n",
       "      <th>loan</th>\n",
       "      <th>default</th>\n",
       "    </tr>\n",
       "  </thead>\n",
       "  <tbody>\n",
       "    <tr>\n",
       "      <th>0</th>\n",
       "      <td>1</td>\n",
       "      <td>66155.92510</td>\n",
       "      <td>59.017015</td>\n",
       "      <td>8106.532131</td>\n",
       "      <td>0</td>\n",
       "    </tr>\n",
       "    <tr>\n",
       "      <th>1</th>\n",
       "      <td>2</td>\n",
       "      <td>34415.15397</td>\n",
       "      <td>48.117153</td>\n",
       "      <td>6564.745018</td>\n",
       "      <td>0</td>\n",
       "    </tr>\n",
       "    <tr>\n",
       "      <th>2</th>\n",
       "      <td>3</td>\n",
       "      <td>57317.17006</td>\n",
       "      <td>63.108049</td>\n",
       "      <td>8020.953296</td>\n",
       "      <td>0</td>\n",
       "    </tr>\n",
       "    <tr>\n",
       "      <th>3</th>\n",
       "      <td>4</td>\n",
       "      <td>42709.53420</td>\n",
       "      <td>45.751972</td>\n",
       "      <td>6103.642260</td>\n",
       "      <td>0</td>\n",
       "    </tr>\n",
       "    <tr>\n",
       "      <th>4</th>\n",
       "      <td>5</td>\n",
       "      <td>66952.68885</td>\n",
       "      <td>18.584336</td>\n",
       "      <td>8770.099235</td>\n",
       "      <td>1</td>\n",
       "    </tr>\n",
       "  </tbody>\n",
       "</table>\n",
       "</div>"
      ],
      "text/plain": [
       "   clientid       income        age         loan  default\n",
       "0         1  66155.92510  59.017015  8106.532131        0\n",
       "1         2  34415.15397  48.117153  6564.745018        0\n",
       "2         3  57317.17006  63.108049  8020.953296        0\n",
       "3         4  42709.53420  45.751972  6103.642260        0\n",
       "4         5  66952.68885  18.584336  8770.099235        1"
      ]
     },
     "execution_count": 2,
     "metadata": {},
     "output_type": "execute_result"
    }
   ],
   "source": [
    "df=pd.read_csv('../input/credit-data/credit_data.csv')\n",
    "df.head()"
   ]
  },
  {
   "cell_type": "code",
   "execution_count": 3,
   "id": "2b3e192a",
   "metadata": {
    "execution": {
     "iopub.execute_input": "2022-02-13T14:39:16.290957Z",
     "iopub.status.busy": "2022-02-13T14:39:16.290340Z",
     "iopub.status.idle": "2022-02-13T14:39:16.310560Z",
     "shell.execute_reply": "2022-02-13T14:39:16.310092Z",
     "shell.execute_reply.started": "2022-02-11T22:01:49.192516Z"
    },
    "papermill": {
     "duration": 0.043598,
     "end_time": "2022-02-13T14:39:16.310696",
     "exception": false,
     "start_time": "2022-02-13T14:39:16.267098",
     "status": "completed"
    },
    "tags": []
   },
   "outputs": [
    {
     "name": "stdout",
     "output_type": "stream",
     "text": [
      "<class 'pandas.core.frame.DataFrame'>\n",
      "RangeIndex: 2000 entries, 0 to 1999\n",
      "Data columns (total 5 columns):\n",
      " #   Column    Non-Null Count  Dtype  \n",
      "---  ------    --------------  -----  \n",
      " 0   clientid  2000 non-null   int64  \n",
      " 1   income    2000 non-null   float64\n",
      " 2   age       1997 non-null   float64\n",
      " 3   loan      2000 non-null   float64\n",
      " 4   default   2000 non-null   int64  \n",
      "dtypes: float64(3), int64(2)\n",
      "memory usage: 78.2 KB\n"
     ]
    }
   ],
   "source": [
    "df.info()"
   ]
  },
  {
   "cell_type": "code",
   "execution_count": 4,
   "id": "55c1f352",
   "metadata": {
    "execution": {
     "iopub.execute_input": "2022-02-13T14:39:16.349794Z",
     "iopub.status.busy": "2022-02-13T14:39:16.348819Z",
     "iopub.status.idle": "2022-02-13T14:39:16.353855Z",
     "shell.execute_reply": "2022-02-13T14:39:16.354272Z",
     "shell.execute_reply.started": "2022-02-11T22:01:49.211976Z"
    },
    "papermill": {
     "duration": 0.026175,
     "end_time": "2022-02-13T14:39:16.354442",
     "exception": false,
     "start_time": "2022-02-13T14:39:16.328267",
     "status": "completed"
    },
    "tags": []
   },
   "outputs": [
    {
     "data": {
      "text/plain": [
       "(2000, 5)"
      ]
     },
     "execution_count": 4,
     "metadata": {},
     "output_type": "execute_result"
    }
   ],
   "source": [
    "df.shape"
   ]
  },
  {
   "cell_type": "code",
   "execution_count": 5,
   "id": "c650cb32",
   "metadata": {
    "execution": {
     "iopub.execute_input": "2022-02-13T14:39:16.394218Z",
     "iopub.status.busy": "2022-02-13T14:39:16.393532Z",
     "iopub.status.idle": "2022-02-13T14:39:16.403890Z",
     "shell.execute_reply": "2022-02-13T14:39:16.403386Z",
     "shell.execute_reply.started": "2022-02-11T22:01:49.220565Z"
    },
    "papermill": {
     "duration": 0.031124,
     "end_time": "2022-02-13T14:39:16.404032",
     "exception": false,
     "start_time": "2022-02-13T14:39:16.372908",
     "status": "completed"
    },
    "tags": []
   },
   "outputs": [
    {
     "data": {
      "text/plain": [
       "default     1.000000\n",
       "loan        0.377160\n",
       "income      0.002284\n",
       "clientid   -0.020145\n",
       "age        -0.429759\n",
       "Name: default, dtype: float64"
      ]
     },
     "execution_count": 5,
     "metadata": {},
     "output_type": "execute_result"
    }
   ],
   "source": [
    "df.corr()['default'].sort_values(ascending=False)"
   ]
  },
  {
   "cell_type": "code",
   "execution_count": 6,
   "id": "dea17161",
   "metadata": {
    "execution": {
     "iopub.execute_input": "2022-02-13T14:39:16.447771Z",
     "iopub.status.busy": "2022-02-13T14:39:16.447164Z",
     "iopub.status.idle": "2022-02-13T14:39:16.457325Z",
     "shell.execute_reply": "2022-02-13T14:39:16.457788Z",
     "shell.execute_reply.started": "2022-02-11T22:01:49.245079Z"
    },
    "papermill": {
     "duration": 0.035788,
     "end_time": "2022-02-13T14:39:16.457963",
     "exception": false,
     "start_time": "2022-02-13T14:39:16.422175",
     "status": "completed"
    },
    "tags": []
   },
   "outputs": [
    {
     "data": {
      "text/html": [
       "<div>\n",
       "<style scoped>\n",
       "    .dataframe tbody tr th:only-of-type {\n",
       "        vertical-align: middle;\n",
       "    }\n",
       "\n",
       "    .dataframe tbody tr th {\n",
       "        vertical-align: top;\n",
       "    }\n",
       "\n",
       "    .dataframe thead th {\n",
       "        text-align: right;\n",
       "    }\n",
       "</style>\n",
       "<table border=\"1\" class=\"dataframe\">\n",
       "  <thead>\n",
       "    <tr style=\"text-align: right;\">\n",
       "      <th></th>\n",
       "      <th>clientid</th>\n",
       "      <th>income</th>\n",
       "      <th>age</th>\n",
       "      <th>loan</th>\n",
       "      <th>default</th>\n",
       "    </tr>\n",
       "  </thead>\n",
       "  <tbody>\n",
       "    <tr>\n",
       "      <th>0</th>\n",
       "      <td>1</td>\n",
       "      <td>66155.92510</td>\n",
       "      <td>59.017015</td>\n",
       "      <td>8106.532131</td>\n",
       "      <td>0</td>\n",
       "    </tr>\n",
       "    <tr>\n",
       "      <th>1</th>\n",
       "      <td>2</td>\n",
       "      <td>34415.15397</td>\n",
       "      <td>48.117153</td>\n",
       "      <td>6564.745018</td>\n",
       "      <td>0</td>\n",
       "    </tr>\n",
       "    <tr>\n",
       "      <th>2</th>\n",
       "      <td>3</td>\n",
       "      <td>57317.17006</td>\n",
       "      <td>63.108049</td>\n",
       "      <td>8020.953296</td>\n",
       "      <td>0</td>\n",
       "    </tr>\n",
       "    <tr>\n",
       "      <th>3</th>\n",
       "      <td>4</td>\n",
       "      <td>42709.53420</td>\n",
       "      <td>45.751972</td>\n",
       "      <td>6103.642260</td>\n",
       "      <td>0</td>\n",
       "    </tr>\n",
       "    <tr>\n",
       "      <th>4</th>\n",
       "      <td>5</td>\n",
       "      <td>66952.68885</td>\n",
       "      <td>18.584336</td>\n",
       "      <td>8770.099235</td>\n",
       "      <td>1</td>\n",
       "    </tr>\n",
       "    <tr>\n",
       "      <th>...</th>\n",
       "      <td>...</td>\n",
       "      <td>...</td>\n",
       "      <td>...</td>\n",
       "      <td>...</td>\n",
       "      <td>...</td>\n",
       "    </tr>\n",
       "    <tr>\n",
       "      <th>1995</th>\n",
       "      <td>1996</td>\n",
       "      <td>59221.04487</td>\n",
       "      <td>48.518179</td>\n",
       "      <td>1926.729397</td>\n",
       "      <td>0</td>\n",
       "    </tr>\n",
       "    <tr>\n",
       "      <th>1996</th>\n",
       "      <td>1997</td>\n",
       "      <td>69516.12757</td>\n",
       "      <td>23.162104</td>\n",
       "      <td>3503.176156</td>\n",
       "      <td>0</td>\n",
       "    </tr>\n",
       "    <tr>\n",
       "      <th>1997</th>\n",
       "      <td>1998</td>\n",
       "      <td>44311.44926</td>\n",
       "      <td>28.017167</td>\n",
       "      <td>5522.786693</td>\n",
       "      <td>1</td>\n",
       "    </tr>\n",
       "    <tr>\n",
       "      <th>1998</th>\n",
       "      <td>1999</td>\n",
       "      <td>43756.05660</td>\n",
       "      <td>63.971796</td>\n",
       "      <td>1622.722598</td>\n",
       "      <td>0</td>\n",
       "    </tr>\n",
       "    <tr>\n",
       "      <th>1999</th>\n",
       "      <td>2000</td>\n",
       "      <td>69436.57955</td>\n",
       "      <td>56.152617</td>\n",
       "      <td>7378.833599</td>\n",
       "      <td>0</td>\n",
       "    </tr>\n",
       "  </tbody>\n",
       "</table>\n",
       "<p>2000 rows × 5 columns</p>\n",
       "</div>"
      ],
      "text/plain": [
       "      clientid       income        age         loan  default\n",
       "0            1  66155.92510  59.017015  8106.532131        0\n",
       "1            2  34415.15397  48.117153  6564.745018        0\n",
       "2            3  57317.17006  63.108049  8020.953296        0\n",
       "3            4  42709.53420  45.751972  6103.642260        0\n",
       "4            5  66952.68885  18.584336  8770.099235        1\n",
       "...        ...          ...        ...          ...      ...\n",
       "1995      1996  59221.04487  48.518179  1926.729397        0\n",
       "1996      1997  69516.12757  23.162104  3503.176156        0\n",
       "1997      1998  44311.44926  28.017167  5522.786693        1\n",
       "1998      1999  43756.05660  63.971796  1622.722598        0\n",
       "1999      2000  69436.57955  56.152617  7378.833599        0\n",
       "\n",
       "[2000 rows x 5 columns]"
      ]
     },
     "execution_count": 6,
     "metadata": {},
     "output_type": "execute_result"
    }
   ],
   "source": [
    "df"
   ]
  },
  {
   "cell_type": "code",
   "execution_count": 7,
   "id": "d1d2896e",
   "metadata": {
    "execution": {
     "iopub.execute_input": "2022-02-13T14:39:16.499259Z",
     "iopub.status.busy": "2022-02-13T14:39:16.498546Z",
     "iopub.status.idle": "2022-02-13T14:39:17.582457Z",
     "shell.execute_reply": "2022-02-13T14:39:17.581604Z",
     "shell.execute_reply.started": "2022-02-11T22:01:49.270989Z"
    },
    "papermill": {
     "duration": 1.105984,
     "end_time": "2022-02-13T14:39:17.582607",
     "exception": false,
     "start_time": "2022-02-13T14:39:16.476623",
     "status": "completed"
    },
    "tags": []
   },
   "outputs": [],
   "source": [
    "import seaborn as sns"
   ]
  },
  {
   "cell_type": "code",
   "execution_count": 8,
   "id": "365a7beb",
   "metadata": {
    "execution": {
     "iopub.execute_input": "2022-02-13T14:39:17.628354Z",
     "iopub.status.busy": "2022-02-13T14:39:17.627614Z",
     "iopub.status.idle": "2022-02-13T14:39:17.630347Z",
     "shell.execute_reply": "2022-02-13T14:39:17.629890Z",
     "shell.execute_reply.started": "2022-02-11T22:01:49.287526Z"
    },
    "papermill": {
     "duration": 0.029027,
     "end_time": "2022-02-13T14:39:17.630482",
     "exception": false,
     "start_time": "2022-02-13T14:39:17.601455",
     "status": "completed"
    },
    "tags": []
   },
   "outputs": [],
   "source": [
    "df.fillna(df.mean(),inplace=True)"
   ]
  },
  {
   "cell_type": "code",
   "execution_count": 9,
   "id": "4521b011",
   "metadata": {
    "execution": {
     "iopub.execute_input": "2022-02-13T14:39:17.673263Z",
     "iopub.status.busy": "2022-02-13T14:39:17.672597Z",
     "iopub.status.idle": "2022-02-13T14:39:17.682161Z",
     "shell.execute_reply": "2022-02-13T14:39:17.681627Z",
     "shell.execute_reply.started": "2022-02-11T22:01:49.306503Z"
    },
    "papermill": {
     "duration": 0.033826,
     "end_time": "2022-02-13T14:39:17.682345",
     "exception": false,
     "start_time": "2022-02-13T14:39:17.648519",
     "status": "completed"
    },
    "tags": []
   },
   "outputs": [
    {
     "name": "stdout",
     "output_type": "stream",
     "text": [
      "<class 'pandas.core.frame.DataFrame'>\n",
      "RangeIndex: 2000 entries, 0 to 1999\n",
      "Data columns (total 5 columns):\n",
      " #   Column    Non-Null Count  Dtype  \n",
      "---  ------    --------------  -----  \n",
      " 0   clientid  2000 non-null   int64  \n",
      " 1   income    2000 non-null   float64\n",
      " 2   age       2000 non-null   float64\n",
      " 3   loan      2000 non-null   float64\n",
      " 4   default   2000 non-null   int64  \n",
      "dtypes: float64(3), int64(2)\n",
      "memory usage: 78.2 KB\n"
     ]
    }
   ],
   "source": [
    "df.info()"
   ]
  },
  {
   "cell_type": "code",
   "execution_count": 10,
   "id": "5adb5c7a",
   "metadata": {
    "execution": {
     "iopub.execute_input": "2022-02-13T14:39:17.726021Z",
     "iopub.status.busy": "2022-02-13T14:39:17.725446Z",
     "iopub.status.idle": "2022-02-13T14:39:17.727937Z",
     "shell.execute_reply": "2022-02-13T14:39:17.727424Z",
     "shell.execute_reply.started": "2022-02-11T22:01:49.327631Z"
    },
    "papermill": {
     "duration": 0.027136,
     "end_time": "2022-02-13T14:39:17.728085",
     "exception": false,
     "start_time": "2022-02-13T14:39:17.700949",
     "status": "completed"
    },
    "tags": []
   },
   "outputs": [],
   "source": [
    "df['age']=df['age'].astype(int)"
   ]
  },
  {
   "cell_type": "code",
   "execution_count": 11,
   "id": "2372a61a",
   "metadata": {
    "execution": {
     "iopub.execute_input": "2022-02-13T14:39:17.768155Z",
     "iopub.status.busy": "2022-02-13T14:39:17.767563Z",
     "iopub.status.idle": "2022-02-13T14:39:17.779008Z",
     "shell.execute_reply": "2022-02-13T14:39:17.779467Z",
     "shell.execute_reply.started": "2022-02-11T22:01:49.338852Z"
    },
    "papermill": {
     "duration": 0.032955,
     "end_time": "2022-02-13T14:39:17.779628",
     "exception": false,
     "start_time": "2022-02-13T14:39:17.746673",
     "status": "completed"
    },
    "tags": []
   },
   "outputs": [
    {
     "name": "stdout",
     "output_type": "stream",
     "text": [
      "<class 'pandas.core.frame.DataFrame'>\n",
      "RangeIndex: 2000 entries, 0 to 1999\n",
      "Data columns (total 5 columns):\n",
      " #   Column    Non-Null Count  Dtype  \n",
      "---  ------    --------------  -----  \n",
      " 0   clientid  2000 non-null   int64  \n",
      " 1   income    2000 non-null   float64\n",
      " 2   age       2000 non-null   int64  \n",
      " 3   loan      2000 non-null   float64\n",
      " 4   default   2000 non-null   int64  \n",
      "dtypes: float64(2), int64(3)\n",
      "memory usage: 78.2 KB\n"
     ]
    }
   ],
   "source": [
    "df.info()"
   ]
  },
  {
   "cell_type": "code",
   "execution_count": 12,
   "id": "4285746c",
   "metadata": {
    "execution": {
     "iopub.execute_input": "2022-02-13T14:39:17.824348Z",
     "iopub.status.busy": "2022-02-13T14:39:17.821548Z",
     "iopub.status.idle": "2022-02-13T14:39:17.846329Z",
     "shell.execute_reply": "2022-02-13T14:39:17.845721Z",
     "shell.execute_reply.started": "2022-02-11T22:01:49.359380Z"
    },
    "papermill": {
     "duration": 0.046606,
     "end_time": "2022-02-13T14:39:17.846461",
     "exception": false,
     "start_time": "2022-02-13T14:39:17.799855",
     "status": "completed"
    },
    "tags": []
   },
   "outputs": [
    {
     "data": {
      "text/html": [
       "<div>\n",
       "<style scoped>\n",
       "    .dataframe tbody tr th:only-of-type {\n",
       "        vertical-align: middle;\n",
       "    }\n",
       "\n",
       "    .dataframe tbody tr th {\n",
       "        vertical-align: top;\n",
       "    }\n",
       "\n",
       "    .dataframe thead th {\n",
       "        text-align: right;\n",
       "    }\n",
       "</style>\n",
       "<table border=\"1\" class=\"dataframe\">\n",
       "  <thead>\n",
       "    <tr style=\"text-align: right;\">\n",
       "      <th></th>\n",
       "      <th>clientid</th>\n",
       "      <th>income</th>\n",
       "      <th>age</th>\n",
       "      <th>loan</th>\n",
       "      <th>default</th>\n",
       "    </tr>\n",
       "  </thead>\n",
       "  <tbody>\n",
       "    <tr>\n",
       "      <th>count</th>\n",
       "      <td>2000.000000</td>\n",
       "      <td>2000.000000</td>\n",
       "      <td>2000.000000</td>\n",
       "      <td>2000.000000</td>\n",
       "      <td>2000.000000</td>\n",
       "    </tr>\n",
       "    <tr>\n",
       "      <th>mean</th>\n",
       "      <td>1000.500000</td>\n",
       "      <td>45331.600018</td>\n",
       "      <td>40.309500</td>\n",
       "      <td>4444.369695</td>\n",
       "      <td>0.141500</td>\n",
       "    </tr>\n",
       "    <tr>\n",
       "      <th>std</th>\n",
       "      <td>577.494589</td>\n",
       "      <td>14326.327119</td>\n",
       "      <td>13.611258</td>\n",
       "      <td>3045.410024</td>\n",
       "      <td>0.348624</td>\n",
       "    </tr>\n",
       "    <tr>\n",
       "      <th>min</th>\n",
       "      <td>1.000000</td>\n",
       "      <td>20014.489470</td>\n",
       "      <td>-52.000000</td>\n",
       "      <td>1.377630</td>\n",
       "      <td>0.000000</td>\n",
       "    </tr>\n",
       "    <tr>\n",
       "      <th>25%</th>\n",
       "      <td>500.750000</td>\n",
       "      <td>32796.459720</td>\n",
       "      <td>28.750000</td>\n",
       "      <td>1939.708847</td>\n",
       "      <td>0.000000</td>\n",
       "    </tr>\n",
       "    <tr>\n",
       "      <th>50%</th>\n",
       "      <td>1000.500000</td>\n",
       "      <td>45789.117310</td>\n",
       "      <td>41.000000</td>\n",
       "      <td>3974.719418</td>\n",
       "      <td>0.000000</td>\n",
       "    </tr>\n",
       "    <tr>\n",
       "      <th>75%</th>\n",
       "      <td>1500.250000</td>\n",
       "      <td>57791.281670</td>\n",
       "      <td>52.000000</td>\n",
       "      <td>6432.410625</td>\n",
       "      <td>0.000000</td>\n",
       "    </tr>\n",
       "    <tr>\n",
       "      <th>max</th>\n",
       "      <td>2000.000000</td>\n",
       "      <td>69995.685580</td>\n",
       "      <td>63.000000</td>\n",
       "      <td>13766.051240</td>\n",
       "      <td>1.000000</td>\n",
       "    </tr>\n",
       "  </tbody>\n",
       "</table>\n",
       "</div>"
      ],
      "text/plain": [
       "          clientid        income          age          loan      default\n",
       "count  2000.000000   2000.000000  2000.000000   2000.000000  2000.000000\n",
       "mean   1000.500000  45331.600018    40.309500   4444.369695     0.141500\n",
       "std     577.494589  14326.327119    13.611258   3045.410024     0.348624\n",
       "min       1.000000  20014.489470   -52.000000      1.377630     0.000000\n",
       "25%     500.750000  32796.459720    28.750000   1939.708847     0.000000\n",
       "50%    1000.500000  45789.117310    41.000000   3974.719418     0.000000\n",
       "75%    1500.250000  57791.281670    52.000000   6432.410625     0.000000\n",
       "max    2000.000000  69995.685580    63.000000  13766.051240     1.000000"
      ]
     },
     "execution_count": 12,
     "metadata": {},
     "output_type": "execute_result"
    }
   ],
   "source": [
    "df.describe()"
   ]
  },
  {
   "cell_type": "code",
   "execution_count": 13,
   "id": "b08ecbff",
   "metadata": {
    "execution": {
     "iopub.execute_input": "2022-02-13T14:39:17.890666Z",
     "iopub.status.busy": "2022-02-13T14:39:17.890005Z",
     "iopub.status.idle": "2022-02-13T14:39:17.892888Z",
     "shell.execute_reply": "2022-02-13T14:39:17.892410Z",
     "shell.execute_reply.started": "2022-02-11T22:01:49.389805Z"
    },
    "papermill": {
     "duration": 0.02647,
     "end_time": "2022-02-13T14:39:17.893017",
     "exception": false,
     "start_time": "2022-02-13T14:39:17.866547",
     "status": "completed"
    },
    "tags": []
   },
   "outputs": [],
   "source": [
    "import matplotlib.pyplot as plt\n",
    "import seaborn as sns\n",
    "from scipy.stats import norm\n",
    "from collections import Counter"
   ]
  },
  {
   "cell_type": "code",
   "execution_count": 14,
   "id": "86631def",
   "metadata": {
    "execution": {
     "iopub.execute_input": "2022-02-13T14:39:17.942377Z",
     "iopub.status.busy": "2022-02-13T14:39:17.939613Z",
     "iopub.status.idle": "2022-02-13T14:39:18.455014Z",
     "shell.execute_reply": "2022-02-13T14:39:18.455528Z",
     "shell.execute_reply.started": "2022-02-11T22:01:49.396294Z"
    },
    "papermill": {
     "duration": 0.542986,
     "end_time": "2022-02-13T14:39:18.455700",
     "exception": false,
     "start_time": "2022-02-13T14:39:17.912714",
     "status": "completed"
    },
    "tags": []
   },
   "outputs": [
    {
     "name": "stderr",
     "output_type": "stream",
     "text": [
      "/opt/conda/lib/python3.7/site-packages/seaborn/distributions.py:2619: FutureWarning: `distplot` is a deprecated function and will be removed in a future version. Please adapt your code to use either `displot` (a figure-level function with similar flexibility) or `histplot` (an axes-level function for histograms).\n",
      "  warnings.warn(msg, FutureWarning)\n",
      "/opt/conda/lib/python3.7/site-packages/seaborn/_decorators.py:43: FutureWarning: Pass the following variables as keyword args: x, y. From version 0.12, the only valid positional argument will be `data`, and passing other arguments without an explicit keyword will result in an error or misinterpretation.\n",
      "  FutureWarning\n"
     ]
    },
    {
     "data": {
      "image/png": "[encoded data removed]",
      "text/plain": [
       "<Figure size 936x720 with 3 Axes>"
      ]
     },
     "metadata": {
      "needs_background": "light"
     },
     "output_type": "display_data"
    }
   ],
   "source": [
    "## income\n",
    "\n",
    "plt.figure(figsize=(13,10))\n",
    "plt.subplot(2,2,1)\n",
    "plt.hist(df[\"income\"], color=\"orange\")\n",
    "plt.xlabel(\"income\")\n",
    "plt.ylabel(\"Frequency\")\n",
    "plt.title(\"income histogram\", color = \"black\", fontweight='bold', fontsize = 11)\n",
    "plt.subplot(2,2,2)\n",
    "sns.distplot(df[\"income\"], fit=norm, color=\"orange\")\n",
    "plt.title(\"income Distplot\", color = \"black\", fontweight='bold', fontsize = 11)\n",
    "plt.subplot(2,2,3)\n",
    "sns.boxplot(df['default'], df[\"income\"], palette='YlOrBr')\n",
    "plt.title(\"income & default\", color = \"black\", fontweight= 'bold', fontsize = 11)\n",
    "\n",
    "plt.show()"
   ]
  },
  {
   "cell_type": "code",
   "execution_count": 15,
   "id": "a0f49d4f",
   "metadata": {
    "execution": {
     "iopub.execute_input": "2022-02-13T14:39:18.501348Z",
     "iopub.status.busy": "2022-02-13T14:39:18.500607Z",
     "iopub.status.idle": "2022-02-13T14:39:19.000643Z",
     "shell.execute_reply": "2022-02-13T14:39:19.001135Z",
     "shell.execute_reply.started": "2022-02-11T22:01:50.314993Z"
    },
    "papermill": {
     "duration": 0.524567,
     "end_time": "2022-02-13T14:39:19.001311",
     "exception": false,
     "start_time": "2022-02-13T14:39:18.476744",
     "status": "completed"
    },
    "tags": []
   },
   "outputs": [
    {
     "name": "stderr",
     "output_type": "stream",
     "text": [
      "/opt/conda/lib/python3.7/site-packages/seaborn/distributions.py:2619: FutureWarning: `distplot` is a deprecated function and will be removed in a future version. Please adapt your code to use either `displot` (a figure-level function with similar flexibility) or `histplot` (an axes-level function for histograms).\n",
      "  warnings.warn(msg, FutureWarning)\n",
      "/opt/conda/lib/python3.7/site-packages/seaborn/_decorators.py:43: FutureWarning: Pass the following variables as keyword args: x, y. From version 0.12, the only valid positional argument will be `data`, and passing other arguments without an explicit keyword will result in an error or misinterpretation.\n",
      "  FutureWarning\n"
     ]
    },
    {
     "data": {
      "image/png": "[encoded data removed]",
      "text/plain": [
       "<Figure size 936x720 with 3 Axes>"
      ]
     },
     "metadata": {
      "needs_background": "light"
     },
     "output_type": "display_data"
    }
   ],
   "source": [
    "## age\n",
    "\n",
    "plt.figure(figsize=(13,10))\n",
    "plt.subplot(2,2,1)\n",
    "plt.hist(df[\"age\"], color=\"orange\")\n",
    "plt.xlabel(\"age\")\n",
    "plt.ylabel(\"Frequency\")\n",
    "plt.title(\"age histogram\", color = \"black\", fontweight='bold', fontsize = 11)\n",
    "plt.subplot(2,2,2)\n",
    "sns.distplot(df[\"age\"], fit=norm, color=\"orange\")\n",
    "plt.title(\"age Distplot\", color = \"black\", fontweight='bold', fontsize = 11)\n",
    "plt.subplot(2,2,3)\n",
    "sns.boxplot(df['default'], df[\"age\"], palette='YlOrBr')\n",
    "plt.title(\"age & default\", color = \"black\", fontweight= 'bold', fontsize = 11)\n",
    "\n",
    "plt.show()"
   ]
  },
  {
   "cell_type": "code",
   "execution_count": 16,
   "id": "6ae936ba",
   "metadata": {
    "execution": {
     "iopub.execute_input": "2022-02-13T14:39:19.049971Z",
     "iopub.status.busy": "2022-02-13T14:39:19.049360Z",
     "iopub.status.idle": "2022-02-13T14:39:19.541071Z",
     "shell.execute_reply": "2022-02-13T14:39:19.540526Z",
     "shell.execute_reply.started": "2022-02-11T22:01:50.903905Z"
    },
    "papermill": {
     "duration": 0.517435,
     "end_time": "2022-02-13T14:39:19.541215",
     "exception": false,
     "start_time": "2022-02-13T14:39:19.023780",
     "status": "completed"
    },
    "tags": []
   },
   "outputs": [
    {
     "name": "stderr",
     "output_type": "stream",
     "text": [
      "/opt/conda/lib/python3.7/site-packages/seaborn/distributions.py:2619: FutureWarning: `distplot` is a deprecated function and will be removed in a future version. Please adapt your code to use either `displot` (a figure-level function with similar flexibility) or `histplot` (an axes-level function for histograms).\n",
      "  warnings.warn(msg, FutureWarning)\n",
      "/opt/conda/lib/python3.7/site-packages/seaborn/_decorators.py:43: FutureWarning: Pass the following variables as keyword args: x, y. From version 0.12, the only valid positional argument will be `data`, and passing other arguments without an explicit keyword will result in an error or misinterpretation.\n",
      "  FutureWarning\n"
     ]
    },
    {
     "data": {
      "image/png": "[encoded data removed]",
      "text/plain": [
       "<Figure size 936x720 with 3 Axes>"
      ]
     },
     "metadata": {
      "needs_background": "light"
     },
     "output_type": "display_data"
    }
   ],
   "source": [
    "## loan\n",
    "\n",
    "plt.figure(figsize=(13,10))\n",
    "plt.subplot(2,2,1)\n",
    "plt.hist(df[\"loan\"], color=\"orange\")\n",
    "plt.xlabel(\"loan\")\n",
    "plt.ylabel(\"Frequency\")\n",
    "plt.title(\"loan histogram\", color = \"black\", fontweight='bold', fontsize = 11)\n",
    "plt.subplot(2,2,2)\n",
    "sns.distplot(df[\"loan\"], fit=norm, color=\"orange\")\n",
    "plt.title(\"loan Distplot\", color = \"black\", fontweight='bold', fontsize = 11)\n",
    "plt.subplot(2,2,3)\n",
    "sns.boxplot(df['default'], df[\"loan\"], palette='YlOrBr')\n",
    "plt.title(\"loan & default\", color = \"black\", fontweight= 'bold', fontsize = 11)\n",
    "\n",
    "plt.show()"
   ]
  },
  {
   "cell_type": "code",
   "execution_count": 17,
   "id": "df646ae1",
   "metadata": {
    "execution": {
     "iopub.execute_input": "2022-02-13T14:39:19.596022Z",
     "iopub.status.busy": "2022-02-13T14:39:19.595408Z",
     "iopub.status.idle": "2022-02-13T14:39:19.597809Z",
     "shell.execute_reply": "2022-02-13T14:39:19.597289Z",
     "shell.execute_reply.started": "2022-02-11T22:01:51.518229Z"
    },
    "papermill": {
     "duration": 0.032623,
     "end_time": "2022-02-13T14:39:19.597941",
     "exception": false,
     "start_time": "2022-02-13T14:39:19.565318",
     "status": "completed"
    },
    "tags": []
   },
   "outputs": [],
   "source": [
    "df=df[(df['loan']<11800)&(df['age']>20)]"
   ]
  },
  {
   "cell_type": "code",
   "execution_count": 18,
   "id": "582c9d30",
   "metadata": {
    "execution": {
     "iopub.execute_input": "2022-02-13T14:39:19.648565Z",
     "iopub.status.busy": "2022-02-13T14:39:19.647925Z",
     "iopub.status.idle": "2022-02-13T14:39:19.660084Z",
     "shell.execute_reply": "2022-02-13T14:39:19.659203Z",
     "shell.execute_reply.started": "2022-02-11T22:01:51.526824Z"
    },
    "papermill": {
     "duration": 0.038682,
     "end_time": "2022-02-13T14:39:19.660332",
     "exception": false,
     "start_time": "2022-02-13T14:39:19.621650",
     "status": "completed"
    },
    "tags": []
   },
   "outputs": [
    {
     "name": "stdout",
     "output_type": "stream",
     "text": [
      "<class 'pandas.core.frame.DataFrame'>\n",
      "Int64Index: 1837 entries, 0 to 1999\n",
      "Data columns (total 5 columns):\n",
      " #   Column    Non-Null Count  Dtype  \n",
      "---  ------    --------------  -----  \n",
      " 0   clientid  1837 non-null   int64  \n",
      " 1   income    1837 non-null   float64\n",
      " 2   age       1837 non-null   int64  \n",
      " 3   loan      1837 non-null   float64\n",
      " 4   default   1837 non-null   int64  \n",
      "dtypes: float64(2), int64(3)\n",
      "memory usage: 86.1 KB\n"
     ]
    }
   ],
   "source": [
    "df.info()"
   ]
  },
  {
   "cell_type": "code",
   "execution_count": 19,
   "id": "658c992d",
   "metadata": {
    "execution": {
     "iopub.execute_input": "2022-02-13T14:39:19.713855Z",
     "iopub.status.busy": "2022-02-13T14:39:19.712922Z",
     "iopub.status.idle": "2022-02-13T14:39:19.717670Z",
     "shell.execute_reply": "2022-02-13T14:39:19.718173Z",
     "shell.execute_reply.started": "2022-02-11T22:01:51.554812Z"
    },
    "papermill": {
     "duration": 0.032772,
     "end_time": "2022-02-13T14:39:19.718361",
     "exception": false,
     "start_time": "2022-02-13T14:39:19.685589",
     "status": "completed"
    },
    "tags": []
   },
   "outputs": [],
   "source": [
    "df=df.drop(['clientid'],axis=1)"
   ]
  },
  {
   "cell_type": "code",
   "execution_count": 20,
   "id": "490dee53",
   "metadata": {
    "execution": {
     "iopub.execute_input": "2022-02-13T14:39:19.779093Z",
     "iopub.status.busy": "2022-02-13T14:39:19.778483Z",
     "iopub.status.idle": "2022-02-13T14:39:19.780895Z",
     "shell.execute_reply": "2022-02-13T14:39:19.781401Z",
     "shell.execute_reply.started": "2022-02-11T22:01:51.569223Z"
    },
    "papermill": {
     "duration": 0.038339,
     "end_time": "2022-02-13T14:39:19.781567",
     "exception": false,
     "start_time": "2022-02-13T14:39:19.743228",
     "status": "completed"
    },
    "tags": []
   },
   "outputs": [
    {
     "name": "stdout",
     "output_type": "stream",
     "text": [
      "<class 'pandas.core.frame.DataFrame'>\n",
      "Int64Index: 1837 entries, 0 to 1999\n",
      "Data columns (total 4 columns):\n",
      " #   Column   Non-Null Count  Dtype  \n",
      "---  ------   --------------  -----  \n",
      " 0   income   1837 non-null   float64\n",
      " 1   age      1837 non-null   int64  \n",
      " 2   loan     1837 non-null   float64\n",
      " 3   default  1837 non-null   int64  \n",
      "dtypes: float64(2), int64(2)\n",
      "memory usage: 71.8 KB\n"
     ]
    }
   ],
   "source": [
    "df.info()"
   ]
  },
  {
   "cell_type": "code",
   "execution_count": 21,
   "id": "f342b9c2",
   "metadata": {
    "execution": {
     "iopub.execute_input": "2022-02-13T14:39:19.834578Z",
     "iopub.status.busy": "2022-02-13T14:39:19.833892Z",
     "iopub.status.idle": "2022-02-13T14:39:19.838703Z",
     "shell.execute_reply": "2022-02-13T14:39:19.839158Z",
     "shell.execute_reply.started": "2022-02-11T22:01:51.595575Z"
    },
    "papermill": {
     "duration": 0.032751,
     "end_time": "2022-02-13T14:39:19.839377",
     "exception": false,
     "start_time": "2022-02-13T14:39:19.806626",
     "status": "completed"
    },
    "tags": []
   },
   "outputs": [],
   "source": [
    "X=df.drop('default', axis=1)\n",
    "y=df['default']"
   ]
  },
  {
   "cell_type": "code",
   "execution_count": 22,
   "id": "ef15b9e9",
   "metadata": {
    "execution": {
     "iopub.execute_input": "2022-02-13T14:39:19.895192Z",
     "iopub.status.busy": "2022-02-13T14:39:19.894557Z",
     "iopub.status.idle": "2022-02-13T14:39:20.033935Z",
     "shell.execute_reply": "2022-02-13T14:39:20.034390Z",
     "shell.execute_reply.started": "2022-02-11T22:01:51.605408Z"
    },
    "papermill": {
     "duration": 0.169558,
     "end_time": "2022-02-13T14:39:20.034563",
     "exception": false,
     "start_time": "2022-02-13T14:39:19.865005",
     "status": "completed"
    },
    "tags": []
   },
   "outputs": [
    {
     "data": {
      "text/plain": [
       "numpy.ndarray"
      ]
     },
     "execution_count": 22,
     "metadata": {},
     "output_type": "execute_result"
    }
   ],
   "source": [
    "from sklearn.preprocessing import scale\n",
    "X_scale=scale(X)\n",
    "type(X_scale)"
   ]
  },
  {
   "cell_type": "code",
   "execution_count": 23,
   "id": "039f8b3a",
   "metadata": {
    "execution": {
     "iopub.execute_input": "2022-02-13T14:39:20.090691Z",
     "iopub.status.busy": "2022-02-13T14:39:20.088402Z",
     "iopub.status.idle": "2022-02-13T14:39:20.275866Z",
     "shell.execute_reply": "2022-02-13T14:39:20.275308Z",
     "shell.execute_reply.started": "2022-02-11T22:01:51.627069Z"
    },
    "papermill": {
     "duration": 0.216528,
     "end_time": "2022-02-13T14:39:20.276027",
     "exception": false,
     "start_time": "2022-02-13T14:39:20.059499",
     "status": "completed"
    },
    "tags": []
   },
   "outputs": [],
   "source": [
    "from sklearn.model_selection import train_test_split\n",
    "xtrain, xtest, ytrain, ytest = train_test_split(X_scale, y, test_size=0.3, random_state=1)"
   ]
  },
  {
   "cell_type": "code",
   "execution_count": 24,
   "id": "ba88e76c",
   "metadata": {
    "execution": {
     "iopub.execute_input": "2022-02-13T14:39:20.330848Z",
     "iopub.status.busy": "2022-02-13T14:39:20.330252Z",
     "iopub.status.idle": "2022-02-13T14:39:20.412434Z",
     "shell.execute_reply": "2022-02-13T14:39:20.412931Z",
     "shell.execute_reply.started": "2022-02-11T22:01:51.638630Z"
    },
    "papermill": {
     "duration": 0.112183,
     "end_time": "2022-02-13T14:39:20.413130",
     "exception": false,
     "start_time": "2022-02-13T14:39:20.300947",
     "status": "completed"
    },
    "tags": []
   },
   "outputs": [],
   "source": [
    "from sklearn.model_selection import GridSearchCV\n",
    "from sklearn.metrics import accuracy_score\n",
    "from sklearn.linear_model import LogisticRegression as lrc"
   ]
  },
  {
   "cell_type": "code",
   "execution_count": 25,
   "id": "ea37e6c0",
   "metadata": {
    "execution": {
     "iopub.execute_input": "2022-02-13T14:39:20.466005Z",
     "iopub.status.busy": "2022-02-13T14:39:20.465381Z",
     "iopub.status.idle": "2022-02-13T14:39:20.784212Z",
     "shell.execute_reply": "2022-02-13T14:39:20.783637Z",
     "shell.execute_reply.started": "2022-02-11T22:01:51.652437Z"
    },
    "papermill": {
     "duration": 0.346486,
     "end_time": "2022-02-13T14:39:20.784351",
     "exception": false,
     "start_time": "2022-02-13T14:39:20.437865",
     "status": "completed"
    },
    "tags": []
   },
   "outputs": [
    {
     "name": "stdout",
     "output_type": "stream",
     "text": [
      "Fitting 5 folds for each of 14 candidates, totalling 70 fits\n",
      "[CV] C=0.001, penalty=l1 .............................................\n",
      "[CV] ................... C=0.001, penalty=l1, score=nan, total=   0.0s\n",
      "[CV] C=0.001, penalty=l1 .............................................\n",
      "[CV] ................... C=0.001, penalty=l1, score=nan, total=   0.0s\n",
      "[CV] C=0.001, penalty=l1 .............................................\n",
      "[CV] ................... C=0.001, penalty=l1, score=nan, total=   0.0s\n",
      "[CV] C=0.001, penalty=l1 .............................................\n",
      "[CV] ................... C=0.001, penalty=l1, score=nan, total=   0.0s\n",
      "[CV] C=0.001, penalty=l1 .............................................\n",
      "[CV] ................... C=0.001, penalty=l1, score=nan, total=   0.0s\n",
      "[CV] C=0.001, penalty=l2 .............................................\n",
      "[CV] ................. C=0.001, penalty=l2, score=0.879, total=   0.0s\n",
      "[CV] C=0.001, penalty=l2 .............................................\n",
      "[CV] ................. C=0.001, penalty=l2, score=0.879, total=   0.0s\n",
      "[CV] C=0.001, penalty=l2 .............................................\n",
      "[CV] ................. C=0.001, penalty=l2, score=0.875, total=   0.0s\n",
      "[CV] C=0.001, penalty=l2 .............................................\n",
      "[CV] ................. C=0.001, penalty=l2, score=0.875, total=   0.0s\n",
      "[CV] C=0.001, penalty=l2 .............................................\n",
      "[CV] ................. C=0.001, penalty=l2, score=0.875, total=   0.0s\n",
      "[CV] C=0.01, penalty=l1 ..............................................\n",
      "[CV] .................... C=0.01, penalty=l1, score=nan, total=   0.0s\n",
      "[CV] C=0.01, penalty=l1 ..............................................\n",
      "[CV] .................... C=0.01, penalty=l1, score=nan, total=   0.0s\n",
      "[CV] C=0.01, penalty=l1 ..............................................\n",
      "[CV] .................... C=0.01, penalty=l1, score=nan, total=   0.0s\n",
      "[CV] C=0.01, penalty=l1 ..............................................\n",
      "[CV] .................... C=0.01, penalty=l1, score=nan, total=   0.0s\n",
      "[CV] C=0.01, penalty=l1 ..............................................\n",
      "[CV] .................... C=0.01, penalty=l1, score=nan, total=   0.0s\n",
      "[CV] C=0.01, penalty=l2 ..............................................\n",
      "[CV] .................. C=0.01, penalty=l2, score=0.879, total=   0.0s\n",
      "[CV] C=0.01, penalty=l2 ..............................................\n",
      "[CV] .................. C=0.01, penalty=l2, score=0.883, total=   0.0s\n",
      "[CV] C=0.01, penalty=l2 ..............................................\n",
      "[CV] .................. C=0.01, penalty=l2, score=0.875, total=   0.0s\n",
      "[CV] C=0.01, penalty=l2 ..............................................\n",
      "[CV] .................. C=0.01, penalty=l2, score=0.879, total=   0.0s\n",
      "[CV] C=0.01, penalty=l2 ..............................................\n",
      "[CV] .................. C=0.01, penalty=l2, score=0.879, total=   0.0s\n",
      "[CV] C=0.1, penalty=l1 ...............................................\n",
      "[CV] ..................... C=0.1, penalty=l1, score=nan, total=   0.0s\n",
      "[CV] C=0.1, penalty=l1 ...............................................\n",
      "[CV] ..................... C=0.1, penalty=l1, score=nan, total=   0.0s\n",
      "[CV] C=0.1, penalty=l1 ...............................................\n",
      "[CV] ..................... C=0.1, penalty=l1, score=nan, total=   0.0s\n",
      "[CV] C=0.1, penalty=l1 ...............................................\n",
      "[CV] ..................... C=0.1, penalty=l1, score=nan, total=   0.0s\n",
      "[CV] C=0.1, penalty=l1 ...............................................\n",
      "[CV] ..................... C=0.1, penalty=l1, score=nan, total=   0.0s\n",
      "[CV] C=0.1, penalty=l2 ...............................................\n",
      "[CV] ................... C=0.1, penalty=l2, score=0.942, total=   0.0s\n",
      "[CV] C=0.1, penalty=l2 ...............................................\n",
      "[CV] ................... C=0.1, penalty=l2, score=0.961, total=   0.0s\n",
      "[CV] C=0.1, penalty=l2 ...............................................\n",
      "[CV] ................... C=0.1, penalty=l2, score=0.938, total=   0.0s\n",
      "[CV] C=0.1, penalty=l2 ...............................................\n",
      "[CV] ................... C=0.1, penalty=l2, score=0.953, total=   0.0s\n",
      "[CV] C=0.1, penalty=l2 ...............................................\n",
      "[CV] ................... C=0.1, penalty=l2, score=0.981, total=   0.0s\n",
      "[CV] C=1.0, penalty=l1 ...............................................\n",
      "[CV] ..................... C=1.0, penalty=l1, score=nan, total=   0.0s\n",
      "[CV] C=1.0, penalty=l1 ...............................................\n",
      "[CV] ..................... C=1.0, penalty=l1, score=nan, total=   0.0s\n",
      "[CV] C=1.0, penalty=l1 ...............................................\n",
      "[CV] ..................... C=1.0, penalty=l1, score=nan, total=   0.0s\n",
      "[CV] C=1.0, penalty=l1 ...............................................\n",
      "[CV] ..................... C=1.0, penalty=l1, score=nan, total=   0.0s\n",
      "[CV] C=1.0, penalty=l1 ...............................................\n",
      "[CV] ..................... C=1.0, penalty=l1, score=nan, total=   0.0s\n",
      "[CV] C=1.0, penalty=l2 ...............................................\n",
      "[CV] ................... C=1.0, penalty=l2, score=0.942, total=   0.0s\n",
      "[CV] C=1.0, penalty=l2 ...............................................\n",
      "[CV] ................... C=1.0, penalty=l2, score=0.973, total=   0.0s\n",
      "[CV] C=1.0, penalty=l2 ...............................................\n",
      "[CV] ................... C=1.0, penalty=l2, score=0.949, total=   0.0s\n",
      "[CV] C=1.0, penalty=l2 ...............................................\n",
      "[CV] ................... C=1.0, penalty=l2, score=0.961, total=   0.0s\n",
      "[CV] C=1.0, penalty=l2 ...............................................\n",
      "[CV] ................... C=1.0, penalty=l2, score=0.977, total=   0.0s\n",
      "[CV] C=10.0, penalty=l1 ..............................................\n",
      "[CV] .................... C=10.0, penalty=l1, score=nan, total=   0.0s\n",
      "[CV] C=10.0, penalty=l1 ..............................................\n",
      "[CV] .................... C=10.0, penalty=l1, score=nan, total=   0.0s\n",
      "[CV] C=10.0, penalty=l1 ..............................................\n",
      "[CV] .................... C=10.0, penalty=l1, score=nan, total=   0.0s\n",
      "[CV] C=10.0, penalty=l1 ..............................................\n",
      "[CV] .................... C=10.0, penalty=l1, score=nan, total=   0.0s\n",
      "[CV] C=10.0, penalty=l1 ..............................................\n",
      "[CV] .................... C=10.0, penalty=l1, score=nan, total=   0.0s\n",
      "[CV] C=10.0, penalty=l2 ..............................................\n",
      "[CV] .................. C=10.0, penalty=l2, score=0.942, total=   0.0s\n",
      "[CV] C=10.0, penalty=l2 ..............................................\n",
      "[CV] .................. C=10.0, penalty=l2, score=0.973, total=   0.0s\n",
      "[CV] C=10.0, penalty=l2 ..............................................\n",
      "[CV] .................. C=10.0, penalty=l2, score=0.957, total=   0.0s\n",
      "[CV] C=10.0, penalty=l2 ..............................................\n",
      "[CV] .................. C=10.0, penalty=l2, score=0.961, total=   0.0s\n",
      "[CV] C=10.0, penalty=l2 ..............................................\n"
     ]
    },
    {
     "name": "stderr",
     "output_type": "stream",
     "text": [
      "[Parallel(n_jobs=1)]: Using backend SequentialBackend with 1 concurrent workers.\n",
      "/opt/conda/lib/python3.7/site-packages/sklearn/model_selection/_validation.py:552: FitFailedWarning: Estimator fit failed. The score on this train-test partition for these parameters will be set to nan. Details: \n",
      "Traceback (most recent call last):\n",
      "  File \"/opt/conda/lib/python3.7/site-packages/sklearn/model_selection/_validation.py\", line 531, in _fit_and_score\n",
      "    estimator.fit(X_train, y_train, **fit_params)\n",
      "  File \"/opt/conda/lib/python3.7/site-packages/sklearn/linear_model/_logistic.py\", line 1304, in fit\n",
      "    solver = _check_solver(self.solver, self.penalty, self.dual)\n",
      "  File \"/opt/conda/lib/python3.7/site-packages/sklearn/linear_model/_logistic.py\", line 443, in _check_solver\n",
      "    \"got %s penalty.\" % (solver, penalty))\n",
      "ValueError: Solver lbfgs supports only 'l2' or 'none' penalties, got l1 penalty.\n",
      "\n",
      "  FitFailedWarning)\n",
      "[Parallel(n_jobs=1)]: Done   1 out of   1 | elapsed:    0.0s remaining:    0.0s\n",
      "[Parallel(n_jobs=1)]: Done   2 out of   2 | elapsed:    0.0s remaining:    0.0s\n",
      "/opt/conda/lib/python3.7/site-packages/sklearn/model_selection/_validation.py:552: FitFailedWarning: Estimator fit failed. The score on this train-test partition for these parameters will be set to nan. Details: \n",
      "Traceback (most recent call last):\n",
      "  File \"/opt/conda/lib/python3.7/site-packages/sklearn/model_selection/_validation.py\", line 531, in _fit_and_score\n",
      "    estimator.fit(X_train, y_train, **fit_params)\n",
      "  File \"/opt/conda/lib/python3.7/site-packages/sklearn/linear_model/_logistic.py\", line 1304, in fit\n",
      "    solver = _check_solver(self.solver, self.penalty, self.dual)\n",
      "  File \"/opt/conda/lib/python3.7/site-packages/sklearn/linear_model/_logistic.py\", line 443, in _check_solver\n",
      "    \"got %s penalty.\" % (solver, penalty))\n",
      "ValueError: Solver lbfgs supports only 'l2' or 'none' penalties, got l1 penalty.\n",
      "\n",
      "  FitFailedWarning)\n",
      "/opt/conda/lib/python3.7/site-packages/sklearn/model_selection/_validation.py:552: FitFailedWarning: Estimator fit failed. The score on this train-test partition for these parameters will be set to nan. Details: \n",
      "Traceback (most recent call last):\n",
      "  File \"/opt/conda/lib/python3.7/site-packages/sklearn/model_selection/_validation.py\", line 531, in _fit_and_score\n",
      "    estimator.fit(X_train, y_train, **fit_params)\n",
      "  File \"/opt/conda/lib/python3.7/site-packages/sklearn/linear_model/_logistic.py\", line 1304, in fit\n",
      "    solver = _check_solver(self.solver, self.penalty, self.dual)\n",
      "  File \"/opt/conda/lib/python3.7/site-packages/sklearn/linear_model/_logistic.py\", line 443, in _check_solver\n",
      "    \"got %s penalty.\" % (solver, penalty))\n",
      "ValueError: Solver lbfgs supports only 'l2' or 'none' penalties, got l1 penalty.\n",
      "\n",
      "  FitFailedWarning)\n",
      "/opt/conda/lib/python3.7/site-packages/sklearn/model_selection/_validation.py:552: FitFailedWarning: Estimator fit failed. The score on this train-test partition for these parameters will be set to nan. Details: \n",
      "Traceback (most recent call last):\n",
      "  File \"/opt/conda/lib/python3.7/site-packages/sklearn/model_selection/_validation.py\", line 531, in _fit_and_score\n",
      "    estimator.fit(X_train, y_train, **fit_params)\n",
      "  File \"/opt/conda/lib/python3.7/site-packages/sklearn/linear_model/_logistic.py\", line 1304, in fit\n",
      "    solver = _check_solver(self.solver, self.penalty, self.dual)\n",
      "  File \"/opt/conda/lib/python3.7/site-packages/sklearn/linear_model/_logistic.py\", line 443, in _check_solver\n",
      "    \"got %s penalty.\" % (solver, penalty))\n",
      "ValueError: Solver lbfgs supports only 'l2' or 'none' penalties, got l1 penalty.\n",
      "\n",
      "  FitFailedWarning)\n",
      "/opt/conda/lib/python3.7/site-packages/sklearn/model_selection/_validation.py:552: FitFailedWarning: Estimator fit failed. The score on this train-test partition for these parameters will be set to nan. Details: \n",
      "Traceback (most recent call last):\n",
      "  File \"/opt/conda/lib/python3.7/site-packages/sklearn/model_selection/_validation.py\", line 531, in _fit_and_score\n",
      "    estimator.fit(X_train, y_train, **fit_params)\n",
      "  File \"/opt/conda/lib/python3.7/site-packages/sklearn/linear_model/_logistic.py\", line 1304, in fit\n",
      "    solver = _check_solver(self.solver, self.penalty, self.dual)\n",
      "  File \"/opt/conda/lib/python3.7/site-packages/sklearn/linear_model/_logistic.py\", line 443, in _check_solver\n",
      "    \"got %s penalty.\" % (solver, penalty))\n",
      "ValueError: Solver lbfgs supports only 'l2' or 'none' penalties, got l1 penalty.\n",
      "\n",
      "  FitFailedWarning)\n"
     ]
    },
    {
     "name": "stdout",
     "output_type": "stream",
     "text": [
      "[CV] .................. C=10.0, penalty=l2, score=0.977, total=   0.0s\n",
      "[CV] C=100.0, penalty=l1 .............................................\n",
      "[CV] ................... C=100.0, penalty=l1, score=nan, total=   0.0s\n",
      "[CV] C=100.0, penalty=l1 .............................................\n",
      "[CV] ................... C=100.0, penalty=l1, score=nan, total=   0.0s\n",
      "[CV] C=100.0, penalty=l1 .............................................\n",
      "[CV] ................... C=100.0, penalty=l1, score=nan, total=   0.0s\n",
      "[CV] C=100.0, penalty=l1 .............................................\n",
      "[CV] ................... C=100.0, penalty=l1, score=nan, total=   0.0s\n",
      "[CV] C=100.0, penalty=l1 .............................................\n",
      "[CV] ................... C=100.0, penalty=l1, score=nan, total=   0.0s\n",
      "[CV] C=100.0, penalty=l2 .............................................\n",
      "[CV] ................. C=100.0, penalty=l2, score=0.942, total=   0.0s\n",
      "[CV] C=100.0, penalty=l2 .............................................\n",
      "[CV] ................. C=100.0, penalty=l2, score=0.973, total=   0.0s\n",
      "[CV] C=100.0, penalty=l2 .............................................\n",
      "[CV] ................. C=100.0, penalty=l2, score=0.957, total=   0.0s\n",
      "[CV] C=100.0, penalty=l2 .............................................\n",
      "[CV] ................. C=100.0, penalty=l2, score=0.961, total=   0.0s\n",
      "[CV] C=100.0, penalty=l2 .............................................\n",
      "[CV] ................. C=100.0, penalty=l2, score=0.977, total=   0.0s\n",
      "[CV] C=1000.0, penalty=l1 ............................................\n",
      "[CV] .................. C=1000.0, penalty=l1, score=nan, total=   0.0s\n",
      "[CV] C=1000.0, penalty=l1 ............................................\n",
      "[CV] .................. C=1000.0, penalty=l1, score=nan, total=   0.0s\n",
      "[CV] C=1000.0, penalty=l1 ............................................\n",
      "[CV] .................. C=1000.0, penalty=l1, score=nan, total=   0.0s\n",
      "[CV] C=1000.0, penalty=l1 ............................................\n",
      "[CV] .................. C=1000.0, penalty=l1, score=nan, total=   0.0s\n",
      "[CV] C=1000.0, penalty=l1 ............................................\n",
      "[CV] .................. C=1000.0, penalty=l1, score=nan, total=   0.0s\n",
      "[CV] C=1000.0, penalty=l2 ............................................\n",
      "[CV] ................ C=1000.0, penalty=l2, score=0.942, total=   0.0s\n",
      "[CV] C=1000.0, penalty=l2 ............................................\n",
      "[CV] ................ C=1000.0, penalty=l2, score=0.973, total=   0.0s\n",
      "[CV] C=1000.0, penalty=l2 ............................................\n",
      "[CV] ................ C=1000.0, penalty=l2, score=0.957, total=   0.0s\n",
      "[CV] C=1000.0, penalty=l2 ............................................\n",
      "[CV] ................ C=1000.0, penalty=l2, score=0.961, total=   0.0s\n",
      "[CV] C=1000.0, penalty=l2 ............................................\n",
      "[CV] ................ C=1000.0, penalty=l2, score=0.977, total=   0.0s\n",
      "best parameters for lr:  {'C': 10.0, 'penalty': 'l2'}\n",
      "accuracy score for lr 94.02173913043478\n"
     ]
    },
    {
     "name": "stderr",
     "output_type": "stream",
     "text": [
      "/opt/conda/lib/python3.7/site-packages/sklearn/model_selection/_validation.py:552: FitFailedWarning: Estimator fit failed. The score on this train-test partition for these parameters will be set to nan. Details: \n",
      "Traceback (most recent call last):\n",
      "  File \"/opt/conda/lib/python3.7/site-packages/sklearn/model_selection/_validation.py\", line 531, in _fit_and_score\n",
      "    estimator.fit(X_train, y_train, **fit_params)\n",
      "  File \"/opt/conda/lib/python3.7/site-packages/sklearn/linear_model/_logistic.py\", line 1304, in fit\n",
      "    solver = _check_solver(self.solver, self.penalty, self.dual)\n",
      "  File \"/opt/conda/lib/python3.7/site-packages/sklearn/linear_model/_logistic.py\", line 443, in _check_solver\n",
      "    \"got %s penalty.\" % (solver, penalty))\n",
      "ValueError: Solver lbfgs supports only 'l2' or 'none' penalties, got l1 penalty.\n",
      "\n",
      "  FitFailedWarning)\n",
      "/opt/conda/lib/python3.7/site-packages/sklearn/model_selection/_validation.py:552: FitFailedWarning: Estimator fit failed. The score on this train-test partition for these parameters will be set to nan. Details: \n",
      "Traceback (most recent call last):\n",
      "  File \"/opt/conda/lib/python3.7/site-packages/sklearn/model_selection/_validation.py\", line 531, in _fit_and_score\n",
      "    estimator.fit(X_train, y_train, **fit_params)\n",
      "  File \"/opt/conda/lib/python3.7/site-packages/sklearn/linear_model/_logistic.py\", line 1304, in fit\n",
      "    solver = _check_solver(self.solver, self.penalty, self.dual)\n",
      "  File \"/opt/conda/lib/python3.7/site-packages/sklearn/linear_model/_logistic.py\", line 443, in _check_solver\n",
      "    \"got %s penalty.\" % (solver, penalty))\n",
      "ValueError: Solver lbfgs supports only 'l2' or 'none' penalties, got l1 penalty.\n",
      "\n",
      "  FitFailedWarning)\n",
      "[Parallel(n_jobs=1)]: Done  70 out of  70 | elapsed:    0.3s finished\n"
     ]
    }
   ],
   "source": [
    "param_grid={\"C\":np.logspace(-3,3,7), \"penalty\":[\"l1\",\"l2\"]}\n",
    "grid=GridSearchCV(lrc(random_state=42),param_grid,refit=True,verbose=3)\n",
    "grid.fit(xtrain,ytrain)\n",
    "print('best parameters for lr: ',grid.best_params_)\n",
    "ypredict=grid.predict(xtest)\n",
    "accuracy_Score = accuracy_score(ytest,ypredict)\n",
    "print('accuracy score for lr', accuracy_Score*100)"
   ]
  },
  {
   "cell_type": "code",
   "execution_count": 26,
   "id": "3c8194c0",
   "metadata": {
    "execution": {
     "iopub.execute_input": "2022-02-13T14:39:20.843886Z",
     "iopub.status.busy": "2022-02-13T14:39:20.843182Z",
     "iopub.status.idle": "2022-02-13T14:39:20.847287Z",
     "shell.execute_reply": "2022-02-13T14:39:20.846714Z",
     "shell.execute_reply.started": "2022-02-11T22:02:16.562808Z"
    },
    "papermill": {
     "duration": 0.036637,
     "end_time": "2022-02-13T14:39:20.847452",
     "exception": false,
     "start_time": "2022-02-13T14:39:20.810815",
     "status": "completed"
    },
    "tags": []
   },
   "outputs": [
    {
     "data": {
      "text/plain": [
       "array([1.e-03, 1.e-02, 1.e-01, 1.e+00, 1.e+01, 1.e+02, 1.e+03])"
      ]
     },
     "execution_count": 26,
     "metadata": {},
     "output_type": "execute_result"
    }
   ],
   "source": [
    "np.logspace(-3,3,7)"
   ]
  }
 ],
 "metadata": {
  "kernelspec": {
   "display_name": "Python 3",
   "language": "python",
   "name": "python3"
  },
  "language_info": {
   "codemirror_mode": {
    "name": "ipython",
    "version": 3
   },
   "file_extension": ".py",
   "mimetype": "text/x-python",
   "name": "python",
   "nbconvert_exporter": "python",
   "pygments_lexer": "ipython3",
   "version": "3.7.12"
  },
  "papermill": {
   "default_parameters": {},
   "duration": 14.563178,
   "end_time": "2022-02-13T14:39:21.584613",
   "environment_variables": {},
   "exception": null,
   "input_path": "__notebook__.ipynb",
   "output_path": "__notebook__.ipynb",
   "parameters": {},
   "start_time": "2022-02-13T14:39:07.021435",
   "version": "2.3.3"
  }
 },
 "nbformat": 4,
 "nbformat_minor": 5
}
